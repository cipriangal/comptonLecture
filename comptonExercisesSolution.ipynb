{
 "cells": [
  {
   "cell_type": "markdown",
   "id": "75af6ad7",
   "metadata": {},
   "source": [
    "# Compton polarimeter exercises"
   ]
  },
  {
   "cell_type": "markdown",
   "id": "deda2b32",
   "metadata": {},
   "source": [
    "## Default units are *MeV* and *cm*"
   ]
  },
  {
   "cell_type": "code",
   "execution_count": 1,
   "id": "b918c001",
   "metadata": {},
   "outputs": [],
   "source": [
    "import numpy as np\n",
    "import scipy.integrate as integrate\n",
    "import matplotlib.pyplot as plt"
   ]
  },
  {
   "cell_type": "markdown",
   "id": "09372023",
   "metadata": {},
   "source": [
    "### Polarization impact on asymmetry"
   ]
  },
  {
   "cell_type": "markdown",
   "id": "f1e3959d",
   "metadata": {},
   "source": [
    "Using the equation for an asymmetry evaluate what the level of uncertainty comes from polarization measurement uncertainty (feel free to use pen and paper). Print out this uncertainty for an asymmetry $A=0.05$ a polarization value of $80\\%$ and an absolute polarization uncertainty of $3\\%$. What is the relative uncertainty on the asymmetry?"
   ]
  },
  {
   "cell_type": "code",
   "execution_count": 2,
   "id": "a727d2f3",
   "metadata": {},
   "outputs": [
    {
     "name": "stdout",
     "output_type": "stream",
     "text": [
      "dA =  0.001875\n",
      "dA/A =  3.75 %\n"
     ]
    }
   ],
   "source": [
    "A = 0.05\n",
    "P = 0.8\n",
    "dP = 0.03\n",
    "dA = A*dP/P\n",
    "print(\"dA = \",dA)\n",
    "print(\"dA/A = \", dA/A*100, \"%\")"
   ]
  },
  {
   "cell_type": "markdown",
   "id": "0f6f6726",
   "metadata": {},
   "source": [
    "### Scattered photon information\n",
    "Calculate the energy of a 532nm photon in units of MeV"
   ]
  },
  {
   "cell_type": "code",
   "execution_count": 3,
   "id": "c5e0bf17",
   "metadata": {},
   "outputs": [
    {
     "name": "stdout",
     "output_type": "stream",
     "text": [
      "photon energy =  2.3305489371101722e-06\n"
     ]
    }
   ],
   "source": [
    "hbarc = 1.9732858E-11\n",
    "pi = 3.141592653589793\n",
    "laser_lambda = 532e-7\n",
    "E_laser = hbarc*2*pi/laser_lambda\n",
    "print(\"photon energy = \",E_laser)"
   ]
  },
  {
   "cell_type": "markdown",
   "id": "24d0549c",
   "metadata": {},
   "source": [
    "Calculate the maximum energy of the scattered photon:"
   ]
  },
  {
   "cell_type": "code",
   "execution_count": 4,
   "id": "87678ebd",
   "metadata": {},
   "outputs": [
    {
     "name": "stdout",
     "output_type": "stream",
     "text": [
      "Maximum photon energy =  757.355762386553\n"
     ]
    }
   ],
   "source": [
    "E_beam = 5000\n",
    "m_electron = 0.51099006\n",
    "gamma = E_beam/m_electron\n",
    "a = 1.0/(1 + 4*gamma*E_laser/m_electron)\n",
    "E_g_max = 4*gamma**2*a*E_laser\n",
    "print(\"Maximum photon energy = \",E_g_max)"
   ]
  },
  {
   "cell_type": "markdown",
   "id": "e328ec36",
   "metadata": {},
   "source": [
    "Calculate the angle for which the scattered photon energy is half of the maximum energy:"
   ]
  },
  {
   "cell_type": "code",
   "execution_count": 5,
   "id": "c51db469",
   "metadata": {},
   "outputs": [
    {
     "name": "stdout",
     "output_type": "stream",
     "text": [
      "E_g_max/2 angle (deg) =  0.006356700858973076\n"
     ]
    }
   ],
   "source": [
    "Theta_half = np.sqrt(1/(a*gamma**2))\n",
    "print(\"E_g_max/2 angle (deg) = \",Theta_half*180/pi)"
   ]
  },
  {
   "cell_type": "markdown",
   "id": "4a1dcb27",
   "metadata": {},
   "source": [
    "Calculate the radial position of this photon 30 meters from the interaction region:"
   ]
  },
  {
   "cell_type": "code",
   "execution_count": 6,
   "id": "aac5866f",
   "metadata": {},
   "outputs": [
    {
     "name": "stdout",
     "output_type": "stream",
     "text": [
      "R after 30 m =  0.33283608002590803 cm\n"
     ]
    }
   ],
   "source": [
    "cone_size_30m = np.tan(Theta_half)*3000\n",
    "print(\"R after 30 m = \",cone_size_30m,\"cm\")"
   ]
  },
  {
   "cell_type": "markdown",
   "id": "9222e10d",
   "metadata": {},
   "source": [
    "### Cross-section and asymmetries"
   ]
  },
  {
   "cell_type": "markdown",
   "id": "55e85a72",
   "metadata": {},
   "source": [
    "Define a function to calculate the Compton cross-section as a function of the scattered photon energy ($\\rho$). Print the cross-section for half of the maximum photon energy."
   ]
  },
  {
   "cell_type": "code",
   "execution_count": 7,
   "id": "107b2494",
   "metadata": {},
   "outputs": [
    {
     "name": "stdout",
     "output_type": "stream",
     "text": [
      "Cross section for half energy =  4.288483334832458e-25\n"
     ]
    }
   ],
   "source": [
    "re=2.818E-13\n",
    "def compton_xsec(rho):\n",
    " first = rho**2*(1.0-a)**2/(1.0-rho*(1.-a))\n",
    " second = (1-rho*(1+a))/(1-rho*(1-a))\n",
    " dsig = 2.*pi*re**2*a*(first+1.0+second**2)\n",
    " return dsig\n",
    "print(\"Cross section for half energy = \", compton_xsec(0.5))"
   ]
  },
  {
   "cell_type": "markdown",
   "id": "7ac8842b",
   "metadata": {},
   "source": [
    "Plot the Compton cross-section for the entire photon energy range:"
   ]
  },
  {
   "cell_type": "code",
   "execution_count": 8,
   "id": "ba46a5f9",
   "metadata": {},
   "outputs": [
    {
     "data": {
      "text/plain": [
       "[<matplotlib.lines.Line2D at 0x12e45c890>]"
      ]
     },
     "execution_count": 8,
     "metadata": {},
     "output_type": "execute_result"
    },
    {
     "data": {
      "image/png": "[encoded data removed]",
      "text/plain": [
       "<Figure size 640x480 with 1 Axes>"
      ]
     },
     "metadata": {},
     "output_type": "display_data"
    }
   ],
   "source": [
    "rr = np.arange(0,1.0,0.01)\n",
    "plt.xlabel(r'$\\rho=E_{\\gamma}/E^\\mathrm{max}_{\\gamma}$',fontsize=18)\n",
    "plt.ylabel(r'$\\frac{d\\sigma}{d\\rho}$',fontsize=18)\n",
    "plt.plot(rr, compton_xsec(rr))"
   ]
  },
  {
   "cell_type": "markdown",
   "id": "5800f612",
   "metadata": {},
   "source": [
    "Define a function to calculate the longitudinal asymmetry as a function of $\\rho$ and calculate the asymmetry for half of the maximum photon energy:"
   ]
  },
  {
   "cell_type": "code",
   "execution_count": 9,
   "id": "20eac855",
   "metadata": {},
   "outputs": [
    {
     "name": "stdout",
     "output_type": "stream",
     "text": [
      "Longitudinal asymmetry for half energy =  -0.01275548205649403\n"
     ]
    }
   ],
   "source": [
    "def compton_A_long(rho):\n",
    " first = rho**2*(1.0-a)**2/(1.0-rho*(1.-a))\n",
    " second = (1-rho*(1+a))/(1-rho*(1-a))\n",
    "\n",
    " term1 = 1.0/(first+1.0+second**2)\n",
    " term2 = 1.0-rho*(1+a)\n",
    " term3 = 1.0-1.0/(1.0-rho*(1.-a))**2\n",
    "\n",
    " asy=term1*term2*term3\n",
    "\n",
    " return asy\n",
    "\n",
    "print(\"Longitudinal asymmetry for half energy = \", compton_A_long(0.5))"
   ]
  },
  {
   "cell_type": "markdown",
   "id": "6f17b6af",
   "metadata": {},
   "source": [
    "Plot the longitudinal asymmetry as a function of $\\rho$:"
   ]
  },
  {
   "cell_type": "code",
   "execution_count": 10,
   "id": "a0b2b827",
   "metadata": {},
   "outputs": [
    {
     "data": {
      "text/plain": [
       "[<matplotlib.lines.Line2D at 0x12e5810d0>]"
      ]
     },
     "execution_count": 10,
     "metadata": {},
     "output_type": "execute_result"
    },
    {
     "data": {
      "image/png": "[encoded data removed]",
      "text/plain": [
       "<Figure size 640x480 with 1 Axes>"
      ]
     },
     "metadata": {},
     "output_type": "display_data"
    }
   ],
   "source": [
    "rr = np.arange(0,1.0,0.01)\n",
    "plt.xlabel(r'$\\rho=E_{\\gamma}/E^\\mathrm{max}_{\\gamma}$',fontsize=18)\n",
    "plt.ylabel(r'$A_\\mathrm{long}$',fontsize=18)\n",
    "plt.plot(rr, compton_A_long(rr))"
   ]
  },
  {
   "cell_type": "markdown",
   "id": "8ae216b3",
   "metadata": {},
   "source": [
    "Define a function to calculate the transverse asymmetry as a function of $\\rho$ (at $phi=0$) and calculate the asymmetry for half of the maximum photon energy:"
   ]
  },
  {
   "cell_type": "code",
   "execution_count": 11,
   "id": "31a87b9e",
   "metadata": {},
   "outputs": [
    {
     "name": "stdout",
     "output_type": "stream",
     "text": [
      "Transverse asymmetry for half energy =  0.07451809329701582\n"
     ]
    }
   ],
   "source": [
    "# this is the phi-independent term - away from electron polarization direction, need *cos(phi)\n",
    "def compton_A_perp(rho):\n",
    " first = rho**2*(1.0-a)**2/(1.0-rho*(1.-a))\n",
    " second = (1-rho*(1+a))/(1-rho*(1-a))\n",
    "\n",
    " term1 = 1.0/(first+1.0+second**2)\n",
    " term2 = rho*(1-a)\n",
    " term3 = np.sqrt(4*a*rho*(1-rho))/(1-rho*(1-a))\n",
    "\n",
    " asy = term1*term2*term3\n",
    " return asy\n",
    "\n",
    "print(\"Transverse asymmetry for half energy = \", compton_A_perp(0.5))"
   ]
  },
  {
   "cell_type": "markdown",
   "id": "c9f61a9f",
   "metadata": {},
   "source": [
    "Plot the longitudinal asymmetry as a function of $\\rho$ and $\\phi=0$:"
   ]
  },
  {
   "cell_type": "code",
   "execution_count": 12,
   "id": "6124221d",
   "metadata": {},
   "outputs": [
    {
     "data": {
      "text/plain": [
       "[<matplotlib.lines.Line2D at 0x12f893f50>]"
      ]
     },
     "execution_count": 12,
     "metadata": {},
     "output_type": "execute_result"
    },
    {
     "data": {
      "image/png": "[encoded data removed]",
      "text/plain": [
       "<Figure size 640x480 with 1 Axes>"
      ]
     },
     "metadata": {},
     "output_type": "display_data"
    }
   ],
   "source": [
    "plt.xlabel(r'$\\rho=E_{\\gamma}/E^\\mathrm{max}_{\\gamma}$',fontsize=18)\n",
    "plt.ylabel(r'$A_\\mathrm{perp}$',fontsize=18)\n",
    "plt.plot(rr, compton_A_perp(rr))"
   ]
  },
  {
   "cell_type": "markdown",
   "id": "dc1c064d",
   "metadata": {},
   "source": [
    "### Luminosities and laser type"
   ]
  },
  {
   "cell_type": "markdown",
   "id": "192245a2",
   "metadata": {},
   "source": [
    "Calculate the luminosity of a CW laser with the given parameters below:"
   ]
  },
  {
   "cell_type": "code",
   "execution_count": 13,
   "id": "efe03dba",
   "metadata": {},
   "outputs": [
    {
     "name": "stdout",
     "output_type": "stream",
     "text": [
      "Luminosity for CW laser/beam (small crossing angle):  7.033923214036582e+30\n"
     ]
    }
   ],
   "source": [
    "Ibeam=1\n",
    "e=1.6022E-19\n",
    "c=2.9979E10\n",
    "\n",
    "power_laser = 5\n",
    "sigmalaser=100E-4\n",
    "siglaserz=23E-12*c\n",
    "\n",
    "alphac=10E-3\n",
    "alpha=alphac/2.0\n",
    "\n",
    "sigmabeam=300E-4\n",
    "sigbeamz = 23E-12*c\n",
    "\n",
    "Ne = Ibeam/e/c\n",
    "Nphot = power_laser/(e*1E6*E_laser*c)\n",
    "LumiCW = c*(1.0 + np.cos(alphac))*Ne*Nphot/(np.sin(alphac)*np.sqrt(2*pi)*np.sqrt(sigmabeam**2 + sigmalaser**2))\n",
    "print('Luminosity for CW laser/beam (small crossing angle): ', LumiCW)"
   ]
  },
  {
   "cell_type": "markdown",
   "id": "d7941b9c",
   "metadata": {},
   "source": [
    "Calculate the luminosity of a pulsed laser with the given parameters below:"
   ]
  },
  {
   "cell_type": "code",
   "execution_count": 14,
   "id": "f6665ae8",
   "metadata": {},
   "outputs": [
    {
     "name": "stdout",
     "output_type": "stream",
     "text": [
      "Luminosity for one pulse (small crossing angle):  1.314609642805983e+24\n",
      "Luminosity for Pulsed laser/beam (small crossing angle):  1.314609642805983e+32\n",
      "Luminosity for Pulsed laser colliding with one beam bunch (small crossing angle):  1.0253955213886668e+29\n"
     ]
    }
   ],
   "source": [
    "fbeam=100E6\n",
    "Nep = Ibeam/e/fbeam\n",
    "flas=100E6\n",
    "fcoll=78000\n",
    "\n",
    "Nphotp = power_laser/(e*1E6*E_laser*flas)\n",
    "\n",
    "Lumi = Nep*Nphotp*np.cos(alpha)/2/pi*1/np.sqrt(sigmabeam**2+sigmalaser**2)*1/np.sqrt((sigmabeam**2+sigmalaser**2)*np.cos(alpha)**2+(siglaserz**2+sigbeamz**2)*np.sin(alpha)**2)\n",
    "print('Luminosity for one pulse (small crossing angle): ', Lumi)\n",
    "print('Luminosity for Pulsed laser/beam (small crossing angle): ', Lumi*flas)\n",
    "print('Luminosity for Pulsed laser colliding with one beam bunch (small crossing angle): ', Lumi*fcoll)"
   ]
  },
  {
   "cell_type": "markdown",
   "id": "a2c92d43",
   "metadata": {},
   "source": [
    "Calculate the rate of scattered photons for a single bunch collision asumming a $\\rho_{min}=E_{laser}/E_{\\gamma max}$:"
   ]
  },
  {
   "cell_type": "code",
   "execution_count": 15,
   "id": "7e69c86b",
   "metadata": {},
   "outputs": [
    {
     "name": "stdout",
     "output_type": "stream",
     "text": [
      "Backscattered photon rate (Hz) 58336.933178552485\n"
     ]
    }
   ],
   "source": [
    "rhomin = E_laser/E_g_max\n",
    "xsect = integrate.quad(lambda rho: compton_xsec(rho),rhomin,1.0)\n",
    "rate = xsect[0]*Lumi*fcoll\n",
    "print('Backscattered photon rate (Hz)', rate)"
   ]
  },
  {
   "cell_type": "markdown",
   "id": "eaf799ed",
   "metadata": {},
   "source": [
    "### Measurement times"
   ]
  },
  {
   "cell_type": "markdown",
   "id": "2d89df84",
   "metadata": {},
   "source": [
    "Using the longitudinal asymmetry function from above calculate the average asymmetry and the time it takes to reach 1% statististical precision for this measurement:"
   ]
  },
  {
   "cell_type": "code",
   "execution_count": 16,
   "id": "786d9ffe",
   "metadata": {},
   "outputs": [
    {
     "name": "stdout",
     "output_type": "stream",
     "text": [
      "Average longitudinal asymmetry:  0.03427976755269462\n",
      "Time for 1% measurement (s):  227.929582570587\n"
     ]
    }
   ],
   "source": [
    "dP=0.01\n",
    "P=0.8\n",
    "num = integrate.quad(lambda rho: compton_A_long(rho)*compton_xsec(rho),rhomin,1.0)\n",
    "A_avg = num[0]/xsect[0]\n",
    "t_avg = 1.0/(rate*dP**2*P**2*A_avg**2)\n",
    "print('Average longitudinal asymmetry: ', A_avg)\n",
    "print('Time for 1% measurement (s): ', t_avg)"
   ]
  }
 ],
 "metadata": {
  "kernelspec": {
   "display_name": "Python 3 (ipykernel)",
   "language": "python",
   "name": "python3"
  },
  "language_info": {
   "codemirror_mode": {
    "name": "ipython",
    "version": 3
   },
   "file_extension": ".py",
   "mimetype": "text/x-python",
   "name": "python",
   "nbconvert_exporter": "python",
   "pygments_lexer": "ipython3",
   "version": "3.11.3"
  }
 },
 "nbformat": 4,
 "nbformat_minor": 5
}
