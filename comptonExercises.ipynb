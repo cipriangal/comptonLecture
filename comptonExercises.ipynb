{
 "cells": [
  {
   "cell_type": "markdown",
   "id": "75af6ad7",
   "metadata": {},
   "source": [
    "# Compton polarimeter exercises"
   ]
  },
  {
   "cell_type": "markdown",
   "id": "deda2b32",
   "metadata": {},
   "source": [
    "## Default units are *MeV* and *cm*"
   ]
  },
  {
   "cell_type": "code",
   "execution_count": 1,
   "id": "b918c001",
   "metadata": {},
   "outputs": [],
   "source": [
    "import numpy as np\n",
    "import scipy.integrate as integrate\n",
    "import matplotlib.pyplot as plt"
   ]
  },
  {
   "cell_type": "markdown",
   "id": "09372023",
   "metadata": {},
   "source": [
    "### Polarization impact on asymmetry"
   ]
  },
  {
   "cell_type": "markdown",
   "id": "f1e3959d",
   "metadata": {},
   "source": [
    "Using the equation for an asymmetry evaluate what the level of uncertainty comes from polarization measurement uncertainty (feel free to use pen and paper). Print out this uncertainty for an asymmetry $A=0.05$ a polarization value of $80\\%$ and an absolute polarization uncertainty of $3\\%$. What is the relative uncertainty on the asymmetry?"
   ]
  },
  {
   "cell_type": "code",
   "execution_count": null,
   "id": "a727d2f3",
   "metadata": {},
   "outputs": [],
   "source": [
    "### Your code goes here"
   ]
  },
  {
   "cell_type": "markdown",
   "id": "0f6f6726",
   "metadata": {},
   "source": [
    "### Scattered photon information\n",
    "Calculate the energy of a 532nm photon in units of MeV"
   ]
  },
  {
   "cell_type": "code",
   "execution_count": null,
   "id": "c5e0bf17",
   "metadata": {},
   "outputs": [],
   "source": [
    "hbarc = 1.9732858E-11\n",
    "pi = 3.141592653589793\n",
    "laser_lambda = 532e-7\n",
    "\n",
    "### Your code goes here"
   ]
  },
  {
   "cell_type": "markdown",
   "id": "24d0549c",
   "metadata": {},
   "source": [
    "Calculate the maximum energy of the scattered photon:"
   ]
  },
  {
   "cell_type": "code",
   "execution_count": null,
   "id": "87678ebd",
   "metadata": {},
   "outputs": [],
   "source": [
    "E_beam = 5000\n",
    "m_electron = 0.51099006\n",
    "\n",
    "### Your code goes here"
   ]
  },
  {
   "cell_type": "markdown",
   "id": "e328ec36",
   "metadata": {},
   "source": [
    "Calculate the angle for which the scattered photon energy is half of the maximum energy:"
   ]
  },
  {
   "cell_type": "code",
   "execution_count": null,
   "id": "c51db469",
   "metadata": {},
   "outputs": [],
   "source": [
    "### Your code goes here"
   ]
  },
  {
   "cell_type": "markdown",
   "id": "4a1dcb27",
   "metadata": {},
   "source": [
    "Calculate the radial position of this photon 30 meters from the interaction region:"
   ]
  },
  {
   "cell_type": "code",
   "execution_count": null,
   "id": "aac5866f",
   "metadata": {},
   "outputs": [],
   "source": [
    "### Your code goes here"
   ]
  },
  {
   "cell_type": "markdown",
   "id": "9222e10d",
   "metadata": {},
   "source": [
    "### Cross-section and asymmetries"
   ]
  },
  {
   "cell_type": "markdown",
   "id": "55e85a72",
   "metadata": {},
   "source": [
    "Define a function to calculate the Compton cross-section as a function of the scattered photon energy ($\\rho$). Print the cross-section for half of the maximum photon energy."
   ]
  },
  {
   "cell_type": "code",
   "execution_count": null,
   "id": "107b2494",
   "metadata": {},
   "outputs": [],
   "source": [
    "re=2.818E-13\n",
    "def compton_xsec(rho):\n",
    "    ### Your code goes here\n",
    "    dsig = \n",
    "    ### Your code goes here   \n",
    "    return dsig\n",
    "print(\"Cross section for half energy = \", compton_xsec(0.5))"
   ]
  },
  {
   "cell_type": "markdown",
   "id": "7ac8842b",
   "metadata": {},
   "source": [
    "Plot the Compton cross-section for the entire photon energy range:"
   ]
  },
  {
   "cell_type": "code",
   "execution_count": null,
   "id": "ba46a5f9",
   "metadata": {},
   "outputs": [],
   "source": [
    "rr = np.arange(0,1.0,0.01)\n",
    "plt.xlabel(r'$\\rho=E_{\\gamma}/E^\\mathrm{max}_{\\gamma}$',fontsize=18)\n",
    "plt.ylabel(r'$\\frac{d\\sigma}{d\\rho}$',fontsize=18)\n",
    "plt.plot(rr, compton_xsec(rr))"
   ]
  },
  {
   "cell_type": "markdown",
   "id": "5800f612",
   "metadata": {},
   "source": [
    "Define a function to calculate the longitudinal asymmetry as a function of $\\rho$ and calculate the asymmetry for half of the maximum photon energy:"
   ]
  },
  {
   "cell_type": "code",
   "execution_count": null,
   "id": "20eac855",
   "metadata": {},
   "outputs": [],
   "source": [
    "def compton_A_long(rho):\n",
    "    ### Your code goes here\n",
    "    asy=\n",
    "    ### Your code goes here\n",
    "    return asy\n",
    "\n",
    "print(\"Longitudinal asymmetry for half energy = \", compton_A_long(0.5))"
   ]
  },
  {
   "cell_type": "markdown",
   "id": "6f17b6af",
   "metadata": {},
   "source": [
    "Plot the longitudinal asymmetry as a function of $\\rho$:"
   ]
  },
  {
   "cell_type": "code",
   "execution_count": null,
   "id": "a0b2b827",
   "metadata": {},
   "outputs": [],
   "source": [
    "rr = np.arange(0,1.0,0.01)\n",
    "plt.xlabel(r'$\\rho=E_{\\gamma}/E^\\mathrm{max}_{\\gamma}$',fontsize=18)\n",
    "plt.ylabel(r'$A_\\mathrm{long}$',fontsize=18)\n",
    "plt.plot(rr, compton_A_long(rr))"
   ]
  },
  {
   "cell_type": "markdown",
   "id": "8ae216b3",
   "metadata": {},
   "source": [
    "Define a function to calculate the transverse asymmetry as a function of $\\rho$ (at $phi=0$) and calculate the asymmetry for half of the maximum photon energy:"
   ]
  },
  {
   "cell_type": "code",
   "execution_count": null,
   "id": "31a87b9e",
   "metadata": {},
   "outputs": [],
   "source": [
    "# this is the phi-independent term - away from electron polarization direction, need *cos(phi)\n",
    "def compton_A_perp(rho):\n",
    "    ### Your code goes here\n",
    "    asy = \n",
    "    ### Your code goes here\n",
    "    \n",
    "    returm asy\n",
    "print(\"Transverse asymmetry for half energy = \", compton_A_perp(0.5))"
   ]
  },
  {
   "cell_type": "markdown",
   "id": "c9f61a9f",
   "metadata": {},
   "source": [
    "Plot the longitudinal asymmetry as a function of $\\rho$ and $\\phi=0$:"
   ]
  },
  {
   "cell_type": "code",
   "execution_count": null,
   "id": "6124221d",
   "metadata": {},
   "outputs": [],
   "source": [
    "plt.xlabel(r'$\\rho=E_{\\gamma}/E^\\mathrm{max}_{\\gamma}$',fontsize=18)\n",
    "plt.ylabel(r'$A_\\mathrm{perp}$',fontsize=18)\n",
    "plt.plot(rr, compton_A_perp(rr))"
   ]
  },
  {
   "cell_type": "markdown",
   "id": "dc1c064d",
   "metadata": {},
   "source": [
    "### Luminosities and laser type"
   ]
  },
  {
   "cell_type": "markdown",
   "id": "192245a2",
   "metadata": {},
   "source": [
    "Calculate the luminosity of a CW laser with the given parameters below:"
   ]
  },
  {
   "cell_type": "code",
   "execution_count": null,
   "id": "efe03dba",
   "metadata": {},
   "outputs": [],
   "source": [
    "Ibeam=1\n",
    "e=1.6022E-19\n",
    "c=2.9979E10\n",
    "\n",
    "power_laser = 5\n",
    "sigmalaser=100E-4\n",
    "siglaserz=23E-12*c\n",
    "\n",
    "alphac=10E-3\n",
    "alpha=alphac/2.0\n",
    "\n",
    "sigmabeam=300E-4\n",
    "sigbeamz = 23E-12*c\n",
    "\n",
    "### Your code goes here\n",
    "    "
   ]
  },
  {
   "cell_type": "markdown",
   "id": "d7941b9c",
   "metadata": {},
   "source": [
    "Calculate the luminosity of a pulsed laser with the given parameters below:"
   ]
  },
  {
   "cell_type": "code",
   "execution_count": null,
   "id": "f6665ae8",
   "metadata": {},
   "outputs": [],
   "source": [
    "fbeam=100E6\n",
    "Nep = Ibeam/e/fbeam\n",
    "flas=100E6\n",
    "fcoll=78000\n",
    "\n",
    "### Your code goes here\n"
   ]
  },
  {
   "cell_type": "markdown",
   "id": "a2c92d43",
   "metadata": {},
   "source": [
    "Calculate the rate of scattered photons for a single bunch collision asumming a $\\rho_{min}=E_{laser}/E_{\\gamma max}$:"
   ]
  },
  {
   "cell_type": "code",
   "execution_count": null,
   "id": "7e69c86b",
   "metadata": {},
   "outputs": [],
   "source": [
    "LumiOneBunch=1.3416E24\n",
    "fcoll=78000\n",
    "rhomin = E_laser/E_g_max\n",
    "xsect = integrate.quad(lambda rho: compton_xsec(rho),rhomin,1.0)\n",
    "### Your code goes here\n"
   ]
  },
  {
   "cell_type": "markdown",
   "id": "eaf799ed",
   "metadata": {},
   "source": [
    "### Measurement times"
   ]
  },
  {
   "cell_type": "markdown",
   "id": "2d89df84",
   "metadata": {},
   "source": [
    "Using the longitudinal asymmetry function from above calculate the average asymmetry and the time it takes to reach 1% statististical precision for this measurement:"
   ]
  },
  {
   "cell_type": "code",
   "execution_count": null,
   "id": "786d9ffe",
   "metadata": {},
   "outputs": [],
   "source": [
    "### Your code goes here\n",
    "\n",
    "num = integrate.quad(lambda rho: compton_A_long(rho)*compton_xsec(rho),rhomin,1.0)\n",
    "\n",
    "### Your code goes here\n"
   ]
  },
  {
   "cell_type": "markdown",
   "id": "835c0736",
   "metadata": {},
   "source": [
    "### Extra credit\n",
    "1. Draw the 2D distribution of the transverse asymmetry as a function of $\\rho$ and the scattering angle (make the asymmetry the color-z axis). Convert that into a 2D X-Y distribution.\n",
    "2. Calculate the measurement times for the single photon and energy integrating methods."
   ]
  },
  {
   "cell_type": "code",
   "execution_count": null,
   "id": "5f29cec5",
   "metadata": {},
   "outputs": [],
   "source": []
  }
 ],
 "metadata": {
  "kernelspec": {
   "display_name": "Python 3 (ipykernel)",
   "language": "python",
   "name": "python3"
  },
  "language_info": {
   "codemirror_mode": {
    "name": "ipython",
    "version": 3
   },
   "file_extension": ".py",
   "mimetype": "text/x-python",
   "name": "python",
   "nbconvert_exporter": "python",
   "pygments_lexer": "ipython3",
   "version": "3.11.3"
  }
 },
 "nbformat": 4,
 "nbformat_minor": 5
}
